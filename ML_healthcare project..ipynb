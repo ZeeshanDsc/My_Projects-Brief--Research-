{
 "cells": [
  {
   "cell_type": "code",
   "execution_count": 2,
   "metadata": {},
   "outputs": [],
   "source": [
    "import pandas as pd\n",
    "import numpy as np"
   ]
  },
  {
   "cell_type": "code",
   "execution_count": null,
   "metadata": {},
   "outputs": [],
   "source": [
    "Healthcare is an important industry which offers value-based care to millions of people, while at the same time becoming top revenue earners for many countries. \n",
    "Today, the Healthcare industry in the US alone earns a revenue of $1.668 trillion. \n",
    "The US also spends more on healthcare per capita as compared to most other developed or developing nations.\n",
    "There are several AI applicaitons available for different domain of healthcare such as...\n",
    "AI application to Identify Diseases and Diagnosis.\n",
    "Medical Imaging Diagnosis\n",
    "Smart Health Records\n",
    "Clinical health\n",
    "Radiotherapy etc.\n",
    "\n",
    "I am trying to find results from Doctor fee data across different cities in India. \n",
    "As we know that healthcare industry has several domains and it is seldome to get the actual data but for educational purpose, i am getting this data from UCI machine learning repository and with the help of this data we can build a model to analyse doctor fee across different cities as per their specialization.\n"
   ]
  },
  {
   "cell_type": "raw",
   "metadata": {},
   "source": [
    "df = pd.read_excel(\"Final_Train.xlsx\")\n",
    "\n",
    "df.head(2)"
   ]
  },
  {
   "cell_type": "code",
   "execution_count": 92,
   "metadata": {},
   "outputs": [],
   "source": [
    "train=pd.read_excel('Final_Train.xlsx')"
   ]
  },
  {
   "cell_type": "raw",
   "metadata": {},
   "source": [
    "df.isnull().sum()/len(df)*100"
   ]
  },
  {
   "cell_type": "code",
   "execution_count": 4,
   "metadata": {},
   "outputs": [],
   "source": [
    "#now lets start preparing data.."
   ]
  },
  {
   "cell_type": "code",
   "execution_count": 5,
   "metadata": {},
   "outputs": [],
   "source": [
    "df['Experience'] = df['Experience'].str.split(\" \").str[0]"
   ]
  },
  {
   "cell_type": "raw",
   "metadata": {},
   "source": [
    "df.head(1)"
   ]
  },
  {
   "cell_type": "code",
   "execution_count": 7,
   "metadata": {},
   "outputs": [],
   "source": [
    "df['Experience']= df['Experience'].astype(int)"
   ]
  },
  {
   "cell_type": "raw",
   "metadata": {},
   "source": [
    "df.dtypes"
   ]
  },
  {
   "cell_type": "code",
   "execution_count": 9,
   "metadata": {},
   "outputs": [],
   "source": [
    "df['Place'].fillna(\"Unknown,Unknown\", inplace= True)"
   ]
  },
  {
   "cell_type": "code",
   "execution_count": 10,
   "metadata": {},
   "outputs": [],
   "source": [
    "df['City']=df['Place'].str.split(\",\").str[-1]"
   ]
  },
  {
   "cell_type": "code",
   "execution_count": 11,
   "metadata": {},
   "outputs": [],
   "source": [
    "df['Place']=df['Place'].str.split(',').str[0]"
   ]
  },
  {
   "cell_type": "raw",
   "metadata": {},
   "source": [
    "df.head(2)"
   ]
  },
  {
   "cell_type": "code",
   "execution_count": 13,
   "metadata": {},
   "outputs": [],
   "source": [
    "# now lets try to simplify the data in Rating column"
   ]
  },
  {
   "cell_type": "raw",
   "metadata": {},
   "source": [
    "# Seperate Ratings into bins\n",
    "\n",
    "df['Rating'].fillna(\"-99%\", inplace=True)\n",
    "df['Rating']=df['Rating'].str[0:-1].astype(int)\n",
    "\n",
    "bins = [-99, 0, 10, 20, 30, 40, 50, 60, 70, 80, 90, 100] #considering a range..\n",
    "\n",
    "labels = [i for i in range(11)]\n",
    "\n",
    "df['Rating'] = pd.cut(df['Rating'], bins=bins, labels=labels, include_lowest=True)\n",
    "#using cut method to change example: 0=10% into 1, or 10-20%=2 and so on"
   ]
  },
  {
   "cell_type": "raw",
   "metadata": {},
   "source": [
    " df.head(2)"
   ]
  },
  {
   "cell_type": "raw",
   "metadata": {},
   "source": [
    "df['Qualification'].unique()"
   ]
  },
  {
   "cell_type": "raw",
   "metadata": {},
   "source": [
    "df[\"Qualification\"].values"
   ]
  },
  {
   "cell_type": "code",
   "execution_count": 18,
   "metadata": {},
   "outputs": [],
   "source": [
    "## Extract relevant qualification\n",
    "\n",
    "df['Qualification']=df['Qualification'].str.split(\",\")\n",
    "Qualification = {}  # dictionary : dictionary has key and values, hence as expample BHMS is a key and 749 is its values.\n",
    "\n",
    "for x in df['Qualification'].values:  # 1 by 1 every value will be saving into x\n",
    "    for each in x:     # BAMS going into each(variable) then, MD - Homeopathy' will go into each and so on..\n",
    "        each = each.strip()   # strip will remove the spaces \n",
    "        if each in Qualification:\n",
    "            Qualification[each]+=1\n",
    "        else:\n",
    "            Qualification[each]=1\n",
    "\n",
    "\n",
    "     "
   ]
  },
  {
   "cell_type": "raw",
   "metadata": {},
   "source": [
    "print(\"df.head(5)\")"
   ]
  },
  {
   "cell_type": "raw",
   "metadata": {},
   "source": [
    "print(\"Qualification\") "
   ]
  },
  {
   "cell_type": "code",
   "execution_count": 21,
   "metadata": {},
   "outputs": [],
   "source": [
    "most_qua = sorted(Qualification.items(),key=lambda x:x[1],reverse=True)[:10]\n",
    "# this code will take top 10 most used term which starts with 1th position in Qualification items.."
   ]
  },
  {
   "cell_type": "raw",
   "metadata": {},
   "source": [
    "print(\"Qualification.items()\")\""
   ]
  },
  {
   "cell_type": "code",
   "execution_count": 23,
   "metadata": {},
   "outputs": [],
   "source": [
    "#most_qua= sorted(Qualification.items(), key= lambda x:x[1], reverse=True)[:10]\n",
    "#used lambda to put condition in qualification items and reverse is used to start from biggest number value item."
   ]
  },
  {
   "cell_type": "raw",
   "metadata": {},
   "source": [
    "print(most_qua)"
   ]
  },
  {
   "cell_type": "code",
   "execution_count": 25,
   "metadata": {},
   "outputs": [],
   "source": [
    "final_qua =[]\n",
    "for tup in most_qua:    # tup is a variable just defined here.. it will save the value: MBBS , as final_qua is appending with tup[0]\n",
    "    final_qua.append(tup[0])"
   ]
  },
  {
   "cell_type": "raw",
   "metadata": {},
   "source": [
    "print(final_qua)"
   ]
  },
  {
   "cell_type": "raw",
   "metadata": {},
   "source": [
    "for title in final_qua:\n",
    "    df[title]=0   # creating column with the titles we have in final_qua"
   ]
  },
  {
   "cell_type": "raw",
   "metadata": {},
   "source": [
    "df.columns"
   ]
  },
  {
   "cell_type": "raw",
   "metadata": {},
   "source": [
    "for x,y in zip(df[\"Qualification\"].values,np.array([idx for idx in range(len(df))])):   #len(df) will be length of number of rows, x, y values in array\n",
    "    for q in x:\n",
    "        q = q.strip()\n",
    "        if q in final_qua:\n",
    "            df[q][y] = 1"
   ]
  },
  {
   "cell_type": "raw",
   "metadata": {},
   "source": [
    "df.head()"
   ]
  },
  {
   "cell_type": "code",
   "execution_count": 31,
   "metadata": {},
   "outputs": [],
   "source": [
    "df.drop(['Qualification'], inplace=True, axis=1)"
   ]
  },
  {
   "cell_type": "raw",
   "metadata": {},
   "source": [
    "df.head()"
   ]
  },
  {
   "cell_type": "code",
   "execution_count": 33,
   "metadata": {},
   "outputs": [],
   "source": [
    "df.drop(['Miscellaneous_Info'], inplace=True, axis=1)"
   ]
  },
  {
   "cell_type": "raw",
   "metadata": {},
   "source": [
    "df.head()"
   ]
  },
  {
   "cell_type": "raw",
   "metadata": {},
   "source": [
    "df['City'].isnull().sum()"
   ]
  },
  {
   "cell_type": "raw",
   "metadata": {},
   "source": [
    "df['City'].dtypes"
   ]
  },
  {
   "cell_type": "raw",
   "metadata": {},
   "source": [
    "df['City'].values"
   ]
  },
  {
   "cell_type": "raw",
   "metadata": {},
   "source": [
    "df['City'].unique()"
   ]
  },
  {
   "cell_type": "raw",
   "metadata": {},
   "source": [
    "df['City'].value_counts()"
   ]
  },
  {
   "cell_type": "raw",
   "metadata": {},
   "source": [
    "df['Place'].value_counts()"
   ]
  },
  {
   "cell_type": "raw",
   "metadata": {},
   "source": [
    "df[df['City']=='e']['City']"
   ]
  },
  {
   "cell_type": "raw",
   "metadata": {},
   "source": [
    "df[df['Place']=='e']['Place']"
   ]
  },
  {
   "cell_type": "raw",
   "metadata": {},
   "source": [
    "# i am replacing this data with unknown...\n",
    "df[\"City\"][3980] = \"Unknown\"\n",
    "df[\"Place\"][3980] = \"Unknown\""
   ]
  },
  {
   "cell_type": "raw",
   "metadata": {},
   "source": [
    "df['City'].value_counts()"
   ]
  },
  {
   "cell_type": "raw",
   "metadata": {},
   "source": [
    "# using get dummies\n",
    "\n",
    "df = pd.get_dummies(df, columns=['City', 'Profile'], prefix=['City', 'Profile'])"
   ]
  },
  {
   "cell_type": "raw",
   "metadata": {},
   "source": [
    "df.head()"
   ]
  },
  {
   "cell_type": "code",
   "execution_count": 65,
   "metadata": {},
   "outputs": [],
   "source": [
    "from sklearn.preprocessing import LabelEncoder"
   ]
  },
  {
   "cell_type": "code",
   "execution_count": 66,
   "metadata": {},
   "outputs": [],
   "source": [
    "le = LabelEncoder()"
   ]
  },
  {
   "cell_type": "code",
   "execution_count": 67,
   "metadata": {},
   "outputs": [],
   "source": [
    "df['Place']= le.fit_transform(df['Place'])"
   ]
  },
  {
   "cell_type": "raw",
   "metadata": {},
   "source": [
    "df['Place'].dtypes"
   ]
  },
  {
   "cell_type": "raw",
   "metadata": {},
   "source": [
    "df.head()"
   ]
  },
  {
   "cell_type": "raw",
   "metadata": {},
   "source": [
    "df.columns"
   ]
  },
  {
   "cell_type": "code",
   "execution_count": 74,
   "metadata": {},
   "outputs": [],
   "source": [
    "import matplotlib.pyplot as plt\n",
    "import seaborn as sns\n",
    "# now we will see the graphical representations among diffrent entities using plots...\n",
    "#Box Plot\n",
    "#Bar plot\n",
    "#Count plot\n",
    "\n"
   ]
  },
  {
   "cell_type": "code",
   "execution_count": 76,
   "metadata": {},
   "outputs": [
    {
     "data": {
      "image/png": "[encoded data removed]",
      "text/plain": [
       "<Figure size 432x288 with 1 Axes>"
      ]
     },
     "metadata": {
      "needs_background": "light"
     },
     "output_type": "display_data"
    }
   ],
   "source": [
    "sns.boxplot(df['Fees'], df['Rating'])\n",
    "plt.show()"
   ]
  },
  {
   "cell_type": "code",
   "execution_count": 79,
   "metadata": {},
   "outputs": [
    {
     "data": {
      "image/png": "[encoded data removed]",
      "text/plain": [
       "<Figure size 432x288 with 1 Axes>"
      ]
     },
     "metadata": {
      "needs_background": "light"
     },
     "output_type": "display_data"
    }
   ],
   "source": [
    "sns.barplot(df['Rating'], df['Fees'])\n",
    "plt.show()"
   ]
  },
  {
   "cell_type": "code",
   "execution_count": 85,
   "metadata": {},
   "outputs": [
    {
     "data": {
      "image/png": "[encoded data removed]",
      "text/plain": [
       "<Figure size 1224x1008 with 1 Axes>"
      ]
     },
     "metadata": {
      "needs_background": "light"
     },
     "output_type": "display_data"
    }
   ],
   "source": [
    "plt.figure(figsize=(17,14))\n",
    "sns.countplot(x='Fees', data=df)\n",
    "plt.title('Different kind of Fees')\n",
    "plt.show()"
   ]
  },
  {
   "cell_type": "code",
   "execution_count": 83,
   "metadata": {},
   "outputs": [
    {
     "data": {
      "image/png": "[encoded data removed]",
      "text/plain": [
       "<Figure size 1224x1008 with 1 Axes>"
      ]
     },
     "metadata": {
      "needs_background": "light"
     },
     "output_type": "display_data"
    }
   ],
   "source": [
    "plt.figure(figsize=(17,14))\n",
    "sns.barplot(df['Experience'], df['Fees'])\n",
    "plt.title('fees vs experience')\n",
    "plt.show()"
   ]
  },
  {
   "cell_type": "code",
   "execution_count": 103,
   "metadata": {},
   "outputs": [],
   "source": [
    "#x = df.drop('Fees', inplace=True, axis=1)\n",
    "\n",
    "x= df.copy()"
   ]
  },
  {
   "cell_type": "code",
   "execution_count": 96,
   "metadata": {},
   "outputs": [],
   "source": [
    "y= train.Fees"
   ]
  },
  {
   "cell_type": "code",
   "execution_count": 97,
   "metadata": {},
   "outputs": [
    {
     "data": {
      "text/plain": [
       "(5961,)"
      ]
     },
     "execution_count": 97,
     "metadata": {},
     "output_type": "execute_result"
    }
   ],
   "source": [
    "y.shape"
   ]
  },
  {
   "cell_type": "code",
   "execution_count": 99,
   "metadata": {},
   "outputs": [],
   "source": [
    "from sklearn.model_selection import train_test_split\n",
    "from sklearn.ensemble import RandomForestRegressor\n",
    "#now i am using Random Forest regressor and test train and split method to build the model."
   ]
  },
  {
   "cell_type": "code",
   "execution_count": 105,
   "metadata": {},
   "outputs": [],
   "source": [
    "x_train,x_test,y_train,y_test=train_test_split(x,y, test_size=.25, random_state=47)\n"
   ]
  },
  {
   "cell_type": "code",
   "execution_count": 106,
   "metadata": {},
   "outputs": [],
   "source": [
    "rfr = RandomForestRegressor()"
   ]
  },
  {
   "cell_type": "raw",
   "metadata": {},
   "source": [
    "rfr.fit(x_train,y_train)  # fitting the model"
   ]
  },
  {
   "cell_type": "raw",
   "metadata": {},
   "source": [
    "rfr.score(x_train,y_train)"
   ]
  },
  {
   "cell_type": "raw",
   "metadata": {},
   "source": [
    "pred = rfr.predict(x_test) #predicting..\n",
    "\n",
    "#here we can see that the model is predicting successfully."
   ]
  },
  {
   "cell_type": "code",
   "execution_count": 115,
   "metadata": {},
   "outputs": [],
   "source": [
    "from sklearn.metrics import r2_score, mean_squared_error\n",
    "import warnings\n",
    "warnings.filterwarnings('ignore')"
   ]
  },
  {
   "cell_type": "raw",
   "metadata": {},
   "source": [
    "print(r2_score(y_test, pred))\n",
    "print(mean_squared_error(y_test, pred))"
   ]
  },
  {
   "cell_type": "raw",
   "metadata": {},
   "source": [
    "y.head()"
   ]
  },
  {
   "cell_type": "raw",
   "metadata": {},
   "source": [
    "x.head()"
   ]
  },
  {
   "cell_type": "code",
   "execution_count": 121,
   "metadata": {},
   "outputs": [],
   "source": [
    "# GridSearch CV\n",
    "from sklearn.model_selection import cross_val_score\n",
    "\n",
    "cvscore= cross_val_score(rfr, x, y, cv=10)\n",
    "\n"
   ]
  },
  {
   "cell_type": "raw",
   "metadata": {},
   "source": [
    "print(cvscore)"
   ]
  },
  {
   "cell_type": "raw",
   "metadata": {},
   "source": [
    "print(cvscore.mean())\n",
    "print(cvscore.std())"
   ]
  },
  {
   "cell_type": "code",
   "execution_count": 125,
   "metadata": {},
   "outputs": [],
   "source": [
    "import pickle   # saving model..\n",
    "saved_model = pickle.dumps(rfr)"
   ]
  },
  {
   "cell_type": "code",
   "execution_count": 128,
   "metadata": {},
   "outputs": [],
   "source": [
    "load_model=pickle.loads(saved_model)\n"
   ]
  },
  {
   "cell_type": "raw",
   "metadata": {},
   "source": [
    "load_model.predict(x_test)"
   ]
  },
  {
   "cell_type": "code",
   "execution_count": null,
   "metadata": {},
   "outputs": [],
   "source": [
    "#hence we can see r2_score, mean_squared_error value.. \n",
    "#this model is fitting and working."
   ]
  },
  {
   "cell_type": "code",
   "execution_count": null,
   "metadata": {},
   "outputs": [],
   "source": [
    "#here we can conculde that AI and ML is helping in building an algorithm by the help of available data, \n",
    "#which is helping in predicting future cases.\n",
    "#Our Conculsions...\n",
    "#1 We can see that the doctors charging fee 100/ patient are getting higher numbers of counts.\n",
    "#2 Doctors charging fee more than 500/ patients are getting less patients.\n",
    "#3 Doctors charging fee 500 are getting patints between 800-1000.\n"
   ]
  }
 ],
 "metadata": {
  "kernelspec": {
   "display_name": "Python 3",
   "language": "python",
   "name": "python3"
  },
  "language_info": {
   "codemirror_mode": {
    "name": "ipython",
    "version": 3
   },
   "file_extension": ".py",
   "mimetype": "text/x-python",
   "name": "python",
   "nbconvert_exporter": "python",
   "pygments_lexer": "ipython3",
   "version": "3.7.3"
  }
 },
 "nbformat": 4,
 "nbformat_minor": 2
}
